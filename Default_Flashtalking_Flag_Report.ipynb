{
  "nbformat": 4,
  "nbformat_minor": 0,
  "metadata": {
    "colab": {
      "provenance": [],
      "authorship_tag": "ABX9TyP0WH6KwcHrBN6a3cEnv1F7",
      "include_colab_link": true
    },
    "kernelspec": {
      "name": "python3",
      "display_name": "Python 3"
    },
    "language_info": {
      "name": "python"
    }
  },
  "cells": [
    {
      "cell_type": "markdown",
      "metadata": {
        "id": "view-in-github",
        "colab_type": "text"
      },
      "source": [
        "<a href=\"https://colab.research.google.com/github/BritCrit/Default-Flashtalking-Flag-Report/blob/main/Default_Flashtalking_Flag_Report.ipynb\" target=\"_parent\"><img src=\"https://colab.research.google.com/assets/colab-badge.svg\" alt=\"Open In Colab\"/></a>"
      ]
    },
    {
      "cell_type": "code",
      "execution_count": null,
      "metadata": {
        "id": "G2Mf_7RomAih"
      },
      "outputs": [],
      "source": [
        "#@title Upload Flashtalking Monthly Report for Default { vertical-output: true }\n",
        "default_flag_threshold =   0.1 #@param {type: \"number\"}\n",
        "!rm -rf sample_data/\n",
        "!rm -rf Reports/\n",
        "region = \"SER\" #@param ['SCR', 'SER', 'NER', 'WEST', 'NCR']\n",
        "import os\n",
        "import io\n",
        "import pandas\n",
        "import zipfile\n",
        "from google.colab import files\n",
        "\n",
        "uploaded = files.upload()\n",
        "\n",
        "for fn in uploaded.keys():\n",
        "  print('User uploaded file \"{name}\" with length {length} bytes'.format(\n",
        "      name=fn, length=len(uploaded[fn])))\n",
        "\n",
        "with zipfile.ZipFile(io.BytesIO(uploaded[fn]), 'r') as zip_ref:\n",
        "  zip_ref.extractall()\n",
        "\n",
        "\n",
        "\n",
        "def create_dir():\n",
        "  new_dir = os.path.join(os.sep, \"/content/Reports/\")\n",
        "  if not os.path.exists(new_dir):\n",
        "    os.mkdir(new_dir)\n",
        "\n",
        "def zip_reports():\n",
        "  !zip -r /content/reports.zip /content/\n",
        "  files.download(\"/content/reports.zip\")\n",
        "\n",
        "def default_flag_report(df, region, default_flag_threshold):\n",
        "  regions = {'_SER_' : 'SER', '_WER_': 'WER', '_NCR_': 'NCR', '_NER_': 'NER', '_SCR_' : 'SCR'}\n",
        "  df = df[['campaign_name', 'creative', 'total_ads_requested']]\n",
        "  # region mapping\n",
        "  df.loc[:, 'region'] = df['campaign_name'].apply(lambda x: next((v for k, v in regions.items() if k in x), None))\n",
        "\n",
        "  # Create a new column 'default' based on the 'creative' column\n",
        "  df.loc[:, 'default'] = df['creative'].apply(lambda x: 1 if 'DLITE' in x else 0)\n",
        "\n",
        "  df = df.groupby(['region','campaign_name'])[['total_ads_requested','default']].sum().reset_index()\n",
        "\n",
        "  df['default_rate'] = df['default'] / df['total_ads_requested']\n",
        "\n",
        "  df['default_flag'] = df['default_rate'] > default_flag_threshold\n",
        "\n",
        "  default_flags_report = df[(df['region'] == region )& (df['default_flag'] == True)]\n",
        "\n",
        "  df.to_csv('Reports/all_regions_default_flag_report.csv', index=False)\n",
        "\n",
        "  default_flags_report.to_csv(f'Reports/{region}_default_flags_report.csv', index=False)\n",
        "\n",
        "create_dir()\n",
        "\n",
        "df = pd.read_csv(zip_ref.namelist()[0])\n",
        "\n",
        "default_flag_report(df, region, default_flag_threshold)\n",
        "\n",
        "zip_reports()\n",
        "\n"
      ]
    }
  ]
}